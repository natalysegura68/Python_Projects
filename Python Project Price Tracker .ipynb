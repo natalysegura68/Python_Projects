{
 "cells": [
  {
   "cell_type": "markdown",
   "id": "8addb4f4-9b10-4cac-bd51-f3ef72a91783",
   "metadata": {},
   "source": [
    "<h1><i>Amazon Scraping Project (Tracking Headlamp Price )</i></h1>"
   ]
  },
  {
   "cell_type": "code",
   "execution_count": 140,
   "id": "a515ebcf-3f2c-4af5-bb8c-f74eb6d87c9f",
   "metadata": {},
   "outputs": [],
   "source": [
    "#Importing Libraries\n",
    "\n",
    "from bs4 import BeautifulSoup\n",
    "import requests\n",
    "import smtplib\n",
    "import time\n",
    "import datetime"
   ]
  },
  {
   "cell_type": "code",
   "execution_count": 142,
   "id": "2df94cba-97cb-41fd-a7a2-ac9577c350b7",
   "metadata": {},
   "outputs": [
    {
     "name": "stdout",
     "output_type": "stream",
     "text": [
      "\n",
      "             Coast XPH30R 1200 Lumen USB-C Rechargeable Dual Power Headlamp with Twist Focus Beam and Magnetic Base\n",
      "            \n",
      "\n",
      "                 $44.97 with 9 percent savings\n",
      "                \n"
     ]
    }
   ],
   "source": [
    "#Connectting To WebSite and Pulling off data\n",
    "url=r'https://www.amazon.com/Coast-30325-XPH30R-Rechargeable-Headlamp/dp/B08L8CQPPL/ref=sr_1_37?crid=16B82OZL5DVN6&dib=eyJ2IjoiMSJ9.k79GQj66YiprSXL8drjvL5E4e2EVL2fZx2vc5wMbwAC5U9MXH95zz6nGwv5dvZt7l4M7CWQoSVljZ31Ld8UgVC9n0bqB90A9UyCEH6VE7Z3B50n979fACIzX8HoPLIia8appSfExPAUypaYZDhp7sk_AqtAt_ylspl2ppwwpw7OVmx9ob09rFG6fcqhWaAyjiwOg0X_O2HK8wlxFwwwpzoHI0XdbCqrFLPWYwIFqvO2r3fOrKEpAxhTYz4zseeGC9b_nOOymKt1PCIV7oW6jk41G8tPB6j9tNc29UWDXS4Q.7ls6ozODhcuHPydACaGzoR3joyPmMF_8Ze0vg3MHIXM&dib_tag=se&keywords=headlamp%2Bflashlight&qid=1727744140&sprefix=headlamp%2Bflashlight%2Caps%2C516&sr=8-37&th=1'\n",
    "headers={\"User-Agent\": \"Mozilla/5.0 (Macintosh; Intel Mac OS X 10_15_7) AppleWebKit/537.36 (KHTML, like Gecko) Chrome/125.0.0.0 Safari/537.36\",\"Accept-Encoding\":\"gzip, deflate\", \"Accept\":\"text/html,application/xhtml+xml,application/xml;q=0.9,*/*;q=0.8\", \"DNT\":\"1\",\"Connection\":\"close\", \"Upgrade-Insecure-Requests\":\"1\"}\n",
    "\n",
    "page = requests.get(url, headers=headers)\n",
    "soup1 = BeautifulSoup(page.content, \"html.parser\")\n",
    "soup2 = BeautifulSoup(soup1.prettify(), \"html.parser\")\n",
    "title = soup2.find(id=\"productTitle\").get_text() \n",
    "price=soup2.find(attrs={\"class\":\"aok-offscreen\"}).get_text()\n",
    "print(title)\n",
    "print(price)"
   ]
  },
  {
   "cell_type": "code",
   "execution_count": 144,
   "id": "01821cba-9d91-4350-bd8e-5967491bbe7a",
   "metadata": {},
   "outputs": [
    {
     "name": "stdout",
     "output_type": "stream",
     "text": [
      "Coast XPH30R 1200 Lumen USB-C Rechargeable Dual Power Headlamp with Twist Focus Beam and Magnetic Base\n",
      "44.97\n"
     ]
    }
   ],
   "source": [
    "#Cleaning up Extracted Data\n",
    "\n",
    "price = price.strip()[1:6]\n",
    "title = title.strip()\n",
    "\n",
    "print(title)\n",
    "print(price)"
   ]
  },
  {
   "cell_type": "code",
   "execution_count": 146,
   "id": "85bbf7ac-d2ab-4be1-87c3-b8cad8efd99f",
   "metadata": {},
   "outputs": [
    {
     "name": "stdout",
     "output_type": "stream",
     "text": [
      "2024-10-01\n"
     ]
    }
   ],
   "source": [
    "# Creating a Timestamp for our output to track when data was collected\n",
    "\n",
    "today = datetime.date.today()\n",
    "\n",
    "print(today)"
   ]
  },
  {
   "cell_type": "code",
   "execution_count": 148,
   "id": "2d704d1d-6563-46ec-b28c-5e7735dcbd2e",
   "metadata": {},
   "outputs": [],
   "source": [
    "# Creating CSV file and writing headers and data into it\n",
    "\n",
    "import csv \n",
    "\n",
    "header = ['Title', 'Price', 'Date']\n",
    "data = [title, price, today]\n",
    "\n",
    "\n",
    "with open('AmazonWebScraperDataset.csv', 'w', newline='', encoding='UTF8') as f:\n",
    "    writer = csv.writer(f)\n",
    "    writer.writerow(header)\n",
    "    writer.writerow(data)"
   ]
  },
  {
   "cell_type": "code",
   "execution_count": 150,
   "id": "c6a5f5c3-d834-4e76-8f73-b6779f05d9ec",
   "metadata": {},
   "outputs": [
    {
     "name": "stdout",
     "output_type": "stream",
     "text": [
      "                                               Title  Price        Date\n",
      "0  Coast XPH30R 1200 Lumen USB-C Rechargeable Dua...  44.97  2024-10-01\n"
     ]
    }
   ],
   "source": [
    "#Checking if the data is getting into the file\n",
    "\n",
    "import pandas as pd\n",
    "df = pd.read_csv(r'/Users/natalysegura/AmazonWebScraperDataset.csv')\n",
    "\n",
    "print(df)"
   ]
  },
  {
   "cell_type": "code",
   "execution_count": 152,
   "id": "71e7ba12-5b44-4638-9232-c81b30f514f2",
   "metadata": {},
   "outputs": [],
   "source": [
    "#Appending data to the csv file\n",
    "\n",
    "with open('AmazonWebScraperDataset.csv', 'a+', newline='', encoding='UTF8') as f:\n",
    "    writer = csv.writer(f)\n",
    "    writer.writerow(data)"
   ]
  },
  {
   "cell_type": "code",
   "execution_count": 154,
   "id": "297e00dc-3606-406e-932f-1e04e52d5800",
   "metadata": {},
   "outputs": [],
   "source": [
    "#Combining all of the above code into a function to automate the checking pricing\n",
    "\n",
    "\n",
    "def check_price():\n",
    "    url=r'https://www.amazon.com/Coast-30325-XPH30R-Rechargeable-Headlamp/dp/B08L8CQPPL/ref=sr_1_37?crid=16B82OZL5DVN6&dib=eyJ2IjoiMSJ9.k79GQj66YiprSXL8drjvL5E4e2EVL2fZx2vc5wMbwAC5U9MXH95zz6nGwv5dvZt7l4M7CWQoSVljZ31Ld8UgVC9n0bqB90A9UyCEH6VE7Z3B50n979fACIzX8HoPLIia8appSfExPAUypaYZDhp7sk_AqtAt_ylspl2ppwwpw7OVmx9ob09rFG6fcqhWaAyjiwOg0X_O2HK8wlxFwwwpzoHI0XdbCqrFLPWYwIFqvO2r3fOrKEpAxhTYz4zseeGC9b_nOOymKt1PCIV7oW6jk41G8tPB6j9tNc29UWDXS4Q.7ls6ozODhcuHPydACaGzoR3joyPmMF_8Ze0vg3MHIXM&dib_tag=se&keywords=headlamp%2Bflashlight&qid=1727744140&sprefix=headlamp%2Bflashlight%2Caps%2C516&sr=8-37&th=1'\n",
    "    headers={\"User-Agent\": \"Mozilla/5.0 (Macintosh; Intel Mac OS X 10_15_7) AppleWebKit/537.36 (KHTML, like Gecko) Chrome/125.0.0.0 Safari/537.36\",\"Accept-Encoding\":\"gzip, deflate\", \"Accept\":\"text/html,application/xhtml+xml,application/xml;q=0.9,*/*;q=0.8\", \"DNT\":\"1\",\"Connection\":\"close\", \"Upgrade-Insecure-Requests\":\"1\"}\n",
    "\n",
    "    page = requests.get(url, headers=headers)\n",
    "    soup1 = BeautifulSoup(page.content, \"html.parser\")\n",
    "    soup2 = BeautifulSoup(soup1.prettify(), \"html.parser\")\n",
    "    title = soup2.find(id=\"productTitle\").get_text() \n",
    "    price=soup2.find(attrs={\"class\":\"aok-offscreen\"}).get_text()\n",
    "\n",
    "\n",
    "    import datetime\n",
    "\n",
    "    today = datetime.date.today()\n",
    "    \n",
    "    import csv \n",
    "\n",
    "    header = ['Title', 'Price', 'Date']\n",
    "    data = [title, price, today]\n",
    "\n",
    "    with open('AmazonWebScraperDataset.csv', 'a+', newline='', encoding='UTF8') as f:\n",
    "        writer = csv.writer(f)\n",
    "        writer.writerow(data)\n",
    "\n",
    "    if price>40:\n",
    "        send_email()\n",
    "        "
   ]
  },
  {
   "cell_type": "code",
   "execution_count": null,
   "id": "ea6bb40d-8158-4ea4-9f77-c00d4694c84a",
   "metadata": {},
   "outputs": [],
   "source": [
    "# Running check_price after a set time and inputs data into your CSV\n",
    "\n",
    "while(True):\n",
    "    check_price()\n",
    "    time.sleep(86400)"
   ]
  },
  {
   "cell_type": "code",
   "execution_count": null,
   "id": "10ecdd1c-7cd5-4476-bb72-50962a92a3de",
   "metadata": {},
   "outputs": [],
   "source": [
    "#Creating a function to send an email if the price drop\n",
    "\n",
    "def send_email():\n",
    "    server = smtplib.SMTP_SSL('smtp.gmail.com',465)\n",
    "    server.ehlo()\n",
    "    #server.starttls()\n",
    "    server.ehlo()\n",
    "    server.login('natalysegura68@gmail.com','*****************')\n",
    "    \n",
    "    subject = \"The Headlamp from amazon just dropped $5!\"\n",
    "    body = \"It is time to order the headlamp for your trip\"\n",
    "   \n",
    "    msg = f\"Subject: {subject}\\n\\n{body}\"\n",
    "    \n",
    "    server.sendmail(\n",
    "        'natalysegura68@gmail.com',\n",
    "        msg\n",
    "     \n",
    "    )"
   ]
  },
  {
   "cell_type": "code",
   "execution_count": null,
   "id": "db7ae094-b9d0-4a98-afc0-c0b04195ce8d",
   "metadata": {},
   "outputs": [],
   "source": []
  },
  {
   "cell_type": "code",
   "execution_count": null,
   "id": "adf624aa-150c-4cf6-be8e-6b271c28fa5c",
   "metadata": {},
   "outputs": [],
   "source": []
  },
  {
   "cell_type": "code",
   "execution_count": null,
   "id": "c21f53b1-c2f1-4e7f-8534-dd1cdd7de626",
   "metadata": {},
   "outputs": [],
   "source": []
  },
  {
   "cell_type": "code",
   "execution_count": null,
   "id": "9c6946b8-23d0-459c-adec-6bcdae3d7803",
   "metadata": {},
   "outputs": [],
   "source": []
  }
 ],
 "metadata": {
  "kernelspec": {
   "display_name": "Python 3 (ipykernel)",
   "language": "python",
   "name": "python3"
  },
  "language_info": {
   "codemirror_mode": {
    "name": "ipython",
    "version": 3
   },
   "file_extension": ".py",
   "mimetype": "text/x-python",
   "name": "python",
   "nbconvert_exporter": "python",
   "pygments_lexer": "ipython3",
   "version": "3.11.7"
  }
 },
 "nbformat": 4,
 "nbformat_minor": 5
}
