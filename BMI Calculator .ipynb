{
 "cells": [
  {
   "cell_type": "markdown",
   "id": "4c54354e-854a-43b6-b748-764d6522679a",
   "metadata": {},
   "source": [
    "BMI Calculator"
   ]
  },
  {
   "cell_type": "code",
   "execution_count": 1,
   "id": "f29620d2-460e-43fe-9c85-17b148b313b1",
   "metadata": {},
   "outputs": [
    {
     "name": "stdin",
     "output_type": "stream",
     "text": [
      "Enter your name Nataly\n",
      "Enter your weight in pounds 118\n",
      "Enter your height in inches 5\n"
     ]
    },
    {
     "name": "stdout",
     "output_type": "stream",
     "text": [
      "Your BMI is:  3318.16\n",
      "Nataly  you are morbidly obese\n"
     ]
    }
   ],
   "source": [
    "name=input('Enter your name')\n",
    "weight=int(input('Enter your weight in pounds'))\n",
    "height=int(input('Enter your height in inches'))\n",
    "BMI=(weight*703)/(height*height)\n",
    "print ('Your BMI is: ',BMI)\n",
    "\n",
    "if BMI>0:\n",
    "    if BMI<=18.5:\n",
    "        Print(name,' you are underweight')\n",
    "    elif BMI<=24.9:\n",
    "        print(name,' you are normal weight')\n",
    "    elif BMI<=29.9:\n",
    "        print(name,' you are overweight')\n",
    "    elif BMI<=34.9:\n",
    "        print(name,' you are obese')\n",
    "    elif BMI<=39.9:\n",
    "        print(name,' you are severly obese')\n",
    "    else:\n",
    "        print(name,' you are morbidly obese')\n",
    "else:\n",
    "    print('Enter valid input')"
   ]
  },
  {
   "cell_type": "code",
   "execution_count": null,
   "id": "c6d6af35-c8c8-44d2-8df0-b4e713bbfee4",
   "metadata": {},
   "outputs": [],
   "source": []
  },
  {
   "cell_type": "code",
   "execution_count": null,
   "id": "48e8ac4e-713b-4bf0-ae35-77220eb261c7",
   "metadata": {},
   "outputs": [],
   "source": []
  },
  {
   "cell_type": "code",
   "execution_count": null,
   "id": "1ef3d0ab-ca46-423d-a367-91e5ee0ae99c",
   "metadata": {},
   "outputs": [],
   "source": []
  },
  {
   "cell_type": "code",
   "execution_count": null,
   "id": "c96f0ae2-e90f-414f-9e5c-c3d5ab25d373",
   "metadata": {},
   "outputs": [],
   "source": []
  }
 ],
 "metadata": {
  "kernelspec": {
   "display_name": "Python 3 (ipykernel)",
   "language": "python",
   "name": "python3"
  },
  "language_info": {
   "codemirror_mode": {
    "name": "ipython",
    "version": 3
   },
   "file_extension": ".py",
   "mimetype": "text/x-python",
   "name": "python",
   "nbconvert_exporter": "python",
   "pygments_lexer": "ipython3",
   "version": "3.11.7"
  }
 },
 "nbformat": 4,
 "nbformat_minor": 5
}
